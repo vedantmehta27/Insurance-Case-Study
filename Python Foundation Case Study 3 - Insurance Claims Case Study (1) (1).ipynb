{
 "cells": [
  {
   "cell_type": "code",
   "execution_count": 1,
   "id": "ed0ece41",
   "metadata": {},
   "outputs": [],
   "source": [
    "import pandas as pd\n",
    "import numpy as np\n",
    "import matplotlib.pyplot as plt\n",
    "import datetime as dt\n",
    "import seaborn as sns\n",
    "import re\n",
    "from datetime import datetime\n",
    "\n",
    "# set the graphs to show in the jupyter notebook\n",
    "%matplotlib inline\n",
    "\n",
    "# set seabor graphs to a better style\n",
    "sns.set(style=\"ticks\")"
   ]
  },
  {
   "cell_type": "code",
   "execution_count": 30,
   "id": "8cdbe86a",
   "metadata": {},
   "outputs": [],
   "source": [
    "import scipy.stats as stats\n"
   ]
  },
  {
   "cell_type": "code",
   "execution_count": 2,
   "id": "d2317811",
   "metadata": {},
   "outputs": [],
   "source": [
    "claims=pd.read_csv(\"C:/Users/hp/OneDrive/Data Analytix/Python/Case Studies/Python Foundation Case Study 3 - Insurance Claims Case Study (1)/claims.csv\")\n",
    "cust=pd.read_csv(\"C:/Users/hp/OneDrive/Data Analytix/Python/Case Studies/Python Foundation Case Study 3 - Insurance Claims Case Study (1)/cust_demographics.csv\")"
   ]
  },
  {
   "cell_type": "code",
   "execution_count": 3,
   "id": "8d7b4cf8",
   "metadata": {
    "scrolled": true
   },
   "outputs": [
    {
     "data": {
      "text/html": [
       "<div>\n",
       "<style scoped>\n",
       "    .dataframe tbody tr th:only-of-type {\n",
       "        vertical-align: middle;\n",
       "    }\n",
       "\n",
       "    .dataframe tbody tr th {\n",
       "        vertical-align: top;\n",
       "    }\n",
       "\n",
       "    .dataframe thead th {\n",
       "        text-align: right;\n",
       "    }\n",
       "</style>\n",
       "<table border=\"1\" class=\"dataframe\">\n",
       "  <thead>\n",
       "    <tr style=\"text-align: right;\">\n",
       "      <th></th>\n",
       "      <th>CUST_ID</th>\n",
       "      <th>gender</th>\n",
       "      <th>DateOfBirth</th>\n",
       "      <th>State</th>\n",
       "      <th>Contact</th>\n",
       "      <th>Segment</th>\n",
       "      <th>claim_id</th>\n",
       "      <th>customer_id</th>\n",
       "      <th>incident_cause</th>\n",
       "      <th>claim_date</th>\n",
       "      <th>claim_area</th>\n",
       "      <th>police_report</th>\n",
       "      <th>claim_type</th>\n",
       "      <th>claim_amount</th>\n",
       "      <th>total_policy_claims</th>\n",
       "      <th>fraudulent</th>\n",
       "    </tr>\n",
       "  </thead>\n",
       "  <tbody>\n",
       "    <tr>\n",
       "      <th>0</th>\n",
       "      <td>21868593</td>\n",
       "      <td>Female</td>\n",
       "      <td>12-Jan-79</td>\n",
       "      <td>VT</td>\n",
       "      <td>789-916-8172</td>\n",
       "      <td>Platinum</td>\n",
       "      <td>54004764.0</td>\n",
       "      <td>21868593.0</td>\n",
       "      <td>Driver error</td>\n",
       "      <td>11/27/2017</td>\n",
       "      <td>Auto</td>\n",
       "      <td>No</td>\n",
       "      <td>Material only</td>\n",
       "      <td>$2980</td>\n",
       "      <td>1.0</td>\n",
       "      <td>No</td>\n",
       "    </tr>\n",
       "    <tr>\n",
       "      <th>1</th>\n",
       "      <td>75740424</td>\n",
       "      <td>Female</td>\n",
       "      <td>13-Jan-70</td>\n",
       "      <td>ME</td>\n",
       "      <td>265-543-1264</td>\n",
       "      <td>Silver</td>\n",
       "      <td>33985796.0</td>\n",
       "      <td>75740424.0</td>\n",
       "      <td>Crime</td>\n",
       "      <td>10/03/2018</td>\n",
       "      <td>Home</td>\n",
       "      <td>Unknown</td>\n",
       "      <td>Material only</td>\n",
       "      <td>$2980</td>\n",
       "      <td>3.0</td>\n",
       "      <td>No</td>\n",
       "    </tr>\n",
       "    <tr>\n",
       "      <th>2</th>\n",
       "      <td>30308357</td>\n",
       "      <td>Female</td>\n",
       "      <td>11-Mar-84</td>\n",
       "      <td>TN</td>\n",
       "      <td>798-631-4758</td>\n",
       "      <td>Silver</td>\n",
       "      <td>53522022.0</td>\n",
       "      <td>30308357.0</td>\n",
       "      <td>Other driver error</td>\n",
       "      <td>02/02/2018</td>\n",
       "      <td>Auto</td>\n",
       "      <td>No</td>\n",
       "      <td>Material only</td>\n",
       "      <td>$3369.5</td>\n",
       "      <td>1.0</td>\n",
       "      <td>Yes</td>\n",
       "    </tr>\n",
       "    <tr>\n",
       "      <th>3</th>\n",
       "      <td>30308357</td>\n",
       "      <td>Female</td>\n",
       "      <td>11-Mar-84</td>\n",
       "      <td>TN</td>\n",
       "      <td>798-631-4758</td>\n",
       "      <td>Silver</td>\n",
       "      <td>63017412.0</td>\n",
       "      <td>30308357.0</td>\n",
       "      <td>Driver error</td>\n",
       "      <td>04/04/2018</td>\n",
       "      <td>Auto</td>\n",
       "      <td>No</td>\n",
       "      <td>Material only</td>\n",
       "      <td>$1950</td>\n",
       "      <td>6.0</td>\n",
       "      <td>No</td>\n",
       "    </tr>\n",
       "    <tr>\n",
       "      <th>4</th>\n",
       "      <td>47830476</td>\n",
       "      <td>Female</td>\n",
       "      <td>01-May-86</td>\n",
       "      <td>MA</td>\n",
       "      <td>413-187-7945</td>\n",
       "      <td>Silver</td>\n",
       "      <td>13015401.0</td>\n",
       "      <td>47830476.0</td>\n",
       "      <td>Natural causes</td>\n",
       "      <td>06/17/2018</td>\n",
       "      <td>Auto</td>\n",
       "      <td>No</td>\n",
       "      <td>Material only</td>\n",
       "      <td>$1680</td>\n",
       "      <td>1.0</td>\n",
       "      <td>No</td>\n",
       "    </tr>\n",
       "    <tr>\n",
       "      <th>...</th>\n",
       "      <td>...</td>\n",
       "      <td>...</td>\n",
       "      <td>...</td>\n",
       "      <td>...</td>\n",
       "      <td>...</td>\n",
       "      <td>...</td>\n",
       "      <td>...</td>\n",
       "      <td>...</td>\n",
       "      <td>...</td>\n",
       "      <td>...</td>\n",
       "      <td>...</td>\n",
       "      <td>...</td>\n",
       "      <td>...</td>\n",
       "      <td>...</td>\n",
       "      <td>...</td>\n",
       "      <td>...</td>\n",
       "    </tr>\n",
       "    <tr>\n",
       "      <th>1087</th>\n",
       "      <td>79539873</td>\n",
       "      <td>Female</td>\n",
       "      <td>15-Mar-81</td>\n",
       "      <td>ND</td>\n",
       "      <td>459-425-4319</td>\n",
       "      <td>Platinum</td>\n",
       "      <td>62020796.0</td>\n",
       "      <td>79539873.0</td>\n",
       "      <td>Other driver error</td>\n",
       "      <td>09/06/2018</td>\n",
       "      <td>Auto</td>\n",
       "      <td>Yes</td>\n",
       "      <td>Material only</td>\n",
       "      <td>$1770</td>\n",
       "      <td>1.0</td>\n",
       "      <td>No</td>\n",
       "    </tr>\n",
       "    <tr>\n",
       "      <th>1088</th>\n",
       "      <td>42364152</td>\n",
       "      <td>Female</td>\n",
       "      <td>07-Jul-96</td>\n",
       "      <td>ID</td>\n",
       "      <td>529-462-1635</td>\n",
       "      <td>Silver</td>\n",
       "      <td>63269067.0</td>\n",
       "      <td>42364152.0</td>\n",
       "      <td>Other causes</td>\n",
       "      <td>05/09/2017</td>\n",
       "      <td>Home</td>\n",
       "      <td>No</td>\n",
       "      <td>Material only</td>\n",
       "      <td>$2800</td>\n",
       "      <td>1.0</td>\n",
       "      <td>No</td>\n",
       "    </tr>\n",
       "    <tr>\n",
       "      <th>1089</th>\n",
       "      <td>19888166</td>\n",
       "      <td>Male</td>\n",
       "      <td>11-Apr-90</td>\n",
       "      <td>WI</td>\n",
       "      <td>712-651-9613</td>\n",
       "      <td>Gold</td>\n",
       "      <td>22690595.0</td>\n",
       "      <td>19888166.0</td>\n",
       "      <td>Other driver error</td>\n",
       "      <td>05/15/2017</td>\n",
       "      <td>Auto</td>\n",
       "      <td>Yes</td>\n",
       "      <td>Injury only</td>\n",
       "      <td>$33080</td>\n",
       "      <td>2.0</td>\n",
       "      <td>No</td>\n",
       "    </tr>\n",
       "    <tr>\n",
       "      <th>1090</th>\n",
       "      <td>11256802</td>\n",
       "      <td>Female</td>\n",
       "      <td>22-Oct-64</td>\n",
       "      <td>LA</td>\n",
       "      <td>469-345-5617</td>\n",
       "      <td>Silver</td>\n",
       "      <td>12376894.0</td>\n",
       "      <td>11256802.0</td>\n",
       "      <td>Other driver error</td>\n",
       "      <td>04/18/2017</td>\n",
       "      <td>Auto</td>\n",
       "      <td>No</td>\n",
       "      <td>Material only</td>\n",
       "      <td>$2840</td>\n",
       "      <td>4.0</td>\n",
       "      <td>No</td>\n",
       "    </tr>\n",
       "    <tr>\n",
       "      <th>1091</th>\n",
       "      <td>61575264</td>\n",
       "      <td>Male</td>\n",
       "      <td>12-Jul-95</td>\n",
       "      <td>WY</td>\n",
       "      <td>182-385-1392</td>\n",
       "      <td>Gold</td>\n",
       "      <td>63226031.0</td>\n",
       "      <td>61575264.0</td>\n",
       "      <td>Natural causes</td>\n",
       "      <td>03/16/2017</td>\n",
       "      <td>Auto</td>\n",
       "      <td>No</td>\n",
       "      <td>Material only</td>\n",
       "      <td>$1490</td>\n",
       "      <td>1.0</td>\n",
       "      <td>No</td>\n",
       "    </tr>\n",
       "  </tbody>\n",
       "</table>\n",
       "<p>1092 rows × 16 columns</p>\n",
       "</div>"
      ],
      "text/plain": [
       "       CUST_ID  gender DateOfBirth State       Contact   Segment    claim_id  \\\n",
       "0     21868593  Female   12-Jan-79    VT  789-916-8172  Platinum  54004764.0   \n",
       "1     75740424  Female   13-Jan-70    ME  265-543-1264    Silver  33985796.0   \n",
       "2     30308357  Female   11-Mar-84    TN  798-631-4758    Silver  53522022.0   \n",
       "3     30308357  Female   11-Mar-84    TN  798-631-4758    Silver  63017412.0   \n",
       "4     47830476  Female   01-May-86    MA  413-187-7945    Silver  13015401.0   \n",
       "...        ...     ...         ...   ...           ...       ...         ...   \n",
       "1087  79539873  Female   15-Mar-81    ND  459-425-4319  Platinum  62020796.0   \n",
       "1088  42364152  Female   07-Jul-96    ID  529-462-1635    Silver  63269067.0   \n",
       "1089  19888166    Male   11-Apr-90    WI  712-651-9613      Gold  22690595.0   \n",
       "1090  11256802  Female   22-Oct-64    LA  469-345-5617    Silver  12376894.0   \n",
       "1091  61575264    Male   12-Jul-95    WY  182-385-1392      Gold  63226031.0   \n",
       "\n",
       "      customer_id      incident_cause  claim_date claim_area police_report  \\\n",
       "0      21868593.0        Driver error  11/27/2017       Auto            No   \n",
       "1      75740424.0               Crime  10/03/2018       Home       Unknown   \n",
       "2      30308357.0  Other driver error  02/02/2018       Auto            No   \n",
       "3      30308357.0        Driver error  04/04/2018       Auto            No   \n",
       "4      47830476.0      Natural causes  06/17/2018       Auto            No   \n",
       "...           ...                 ...         ...        ...           ...   \n",
       "1087   79539873.0  Other driver error  09/06/2018       Auto           Yes   \n",
       "1088   42364152.0        Other causes  05/09/2017       Home            No   \n",
       "1089   19888166.0  Other driver error  05/15/2017       Auto           Yes   \n",
       "1090   11256802.0  Other driver error  04/18/2017       Auto            No   \n",
       "1091   61575264.0      Natural causes  03/16/2017       Auto            No   \n",
       "\n",
       "         claim_type claim_amount  total_policy_claims fraudulent  \n",
       "0     Material only        $2980                  1.0         No  \n",
       "1     Material only        $2980                  3.0         No  \n",
       "2     Material only      $3369.5                  1.0        Yes  \n",
       "3     Material only        $1950                  6.0         No  \n",
       "4     Material only        $1680                  1.0         No  \n",
       "...             ...          ...                  ...        ...  \n",
       "1087  Material only        $1770                  1.0         No  \n",
       "1088  Material only        $2800                  1.0         No  \n",
       "1089    Injury only       $33080                  2.0         No  \n",
       "1090  Material only        $2840                  4.0         No  \n",
       "1091  Material only        $1490                  1.0         No  \n",
       "\n",
       "[1092 rows x 16 columns]"
      ]
     },
     "execution_count": 3,
     "metadata": {},
     "output_type": "execute_result"
    }
   ],
   "source": [
    "#Q1: Import claims_data.csv and cust_data.csv which is provided to you and combine the two datasets appropriately to create a 360-degree view ofthe data. Use the same for the subsequent questions.\n",
    "cust_claims= pd.merge(left=cust, right=claims, left_on='CUST_ID',right_on='customer_id',how='left')\n",
    "cust_claims"
   ]
  },
  {
   "cell_type": "code",
   "execution_count": 11,
   "id": "72e62779",
   "metadata": {},
   "outputs": [
    {
     "name": "stdout",
     "output_type": "stream",
     "text": [
      "<class 'pandas.core.frame.DataFrame'>\n",
      "Int64Index: 1092 entries, 0 to 1091\n",
      "Data columns (total 16 columns):\n",
      " #   Column               Non-Null Count  Dtype         \n",
      "---  ------               --------------  -----         \n",
      " 0   CUST_ID              1092 non-null   int64         \n",
      " 1   gender               1092 non-null   object        \n",
      " 2   DateOfBirth          1092 non-null   datetime64[ns]\n",
      " 3   State                1092 non-null   object        \n",
      " 4   Contact              1092 non-null   float32       \n",
      " 5   Segment              1092 non-null   object        \n",
      " 6   claim_id             1085 non-null   float64       \n",
      " 7   customer_id          1085 non-null   float64       \n",
      " 8   incident_cause       1085 non-null   object        \n",
      " 9   claim_date           1085 non-null   datetime64[ns]\n",
      " 10  claim_area           1085 non-null   object        \n",
      " 11  police_report        1085 non-null   object        \n",
      " 12  claim_type           1085 non-null   object        \n",
      " 13  claim_amount         1020 non-null   object        \n",
      " 14  total_policy_claims  1075 non-null   float64       \n",
      " 15  fraudulent           1085 non-null   object        \n",
      "dtypes: datetime64[ns](2), float32(1), float64(3), int64(1), object(9)\n",
      "memory usage: 140.8+ KB\n"
     ]
    }
   ],
   "source": [
    "cust_claims.info()"
   ]
  },
  {
   "cell_type": "code",
   "execution_count": 4,
   "id": "6f69bcee",
   "metadata": {},
   "outputs": [],
   "source": [
    "#Q2: Perform a data audit for the datatypes and find out if there are any mismatch within the current datatypes of the columns and theirbusiness significance.\n",
    "cust_claims['DateOfBirth']=pd.to_datetime(cust_claims.DateOfBirth, format= \"%d-%b-%y\")\n",
    "\n",
    "cust_claims['claim_date']=pd.to_datetime(cust_claims.claim_date, format= \"%m/%d/%Y\")\n",
    "cust_claims[\"Contact\"] = pd.to_numeric(cust_claims.Contact.str.replace(\"-\",\"\"),downcast='float')\n",
    "\n"
   ]
  },
  {
   "cell_type": "code",
   "execution_count": 5,
   "id": "3148ee48",
   "metadata": {},
   "outputs": [
    {
     "name": "stderr",
     "output_type": "stream",
     "text": [
      "C:\\Users\\hp\\AppData\\Local\\Temp\\ipykernel_2672\\3236260568.py:2: FutureWarning: The default value of regex will change from True to False in a future version. In addition, single character regular expressions will *not* be treated as literal strings when regex=True.\n",
      "  cust_claims[\"claim_amount\"] = pd.to_numeric(cust_claims.claim_amount.str.replace(\"$\",\"\"),downcast='float')\n"
     ]
    }
   ],
   "source": [
    "#Q3: Convert the column claim_amount to numeric. Use the appropriate modules/attributes to remove the $ sign.\n",
    "cust_claims[\"claim_amount\"] = pd.to_numeric(cust_claims.claim_amount.str.replace(\"$\",\"\"),downcast='float')"
   ]
  },
  {
   "cell_type": "code",
   "execution_count": 6,
   "id": "aad00249",
   "metadata": {},
   "outputs": [],
   "source": [
    "#Q4: Of all the injury claims, some of them have gone unreported with the police. Create an alert flag (1,0) for all such claims.\n",
    "\n",
    "def func(x):\n",
    "    if x=='Yes':\n",
    "        return '1'\n",
    "    elif x=='No':\n",
    "        return '0'\n",
    "    return 'NA'\n",
    "\n",
    "cust_claims['flag']=cust_claims['police_report'].apply(func)    \n",
    "\n"
   ]
  },
  {
   "cell_type": "code",
   "execution_count": 7,
   "id": "81bc84ff",
   "metadata": {},
   "outputs": [],
   "source": [
    "#Q5: One customer can claim for insurance more than once and in each claim, multiple categories of claims can be involved. However, customer ID should remain unique.\n",
    "\n",
    "cust_claims=cust_claims.groupby(by='CUST_ID').first().reset_index(drop=True)"
   ]
  },
  {
   "cell_type": "code",
   "execution_count": 63,
   "id": "042cb52b",
   "metadata": {},
   "outputs": [
    {
     "data": {
      "text/html": [
       "<div>\n",
       "<style scoped>\n",
       "    .dataframe tbody tr th:only-of-type {\n",
       "        vertical-align: middle;\n",
       "    }\n",
       "\n",
       "    .dataframe tbody tr th {\n",
       "        vertical-align: top;\n",
       "    }\n",
       "\n",
       "    .dataframe thead th {\n",
       "        text-align: right;\n",
       "    }\n",
       "</style>\n",
       "<table border=\"1\" class=\"dataframe\">\n",
       "  <thead>\n",
       "    <tr style=\"text-align: right;\">\n",
       "      <th></th>\n",
       "      <th>gender</th>\n",
       "      <th>DateOfBirth</th>\n",
       "      <th>State</th>\n",
       "      <th>Contact</th>\n",
       "      <th>Segment</th>\n",
       "      <th>claim_id</th>\n",
       "      <th>customer_id</th>\n",
       "      <th>incident_cause</th>\n",
       "      <th>claim_date</th>\n",
       "      <th>claim_area</th>\n",
       "      <th>police_report</th>\n",
       "      <th>claim_type</th>\n",
       "      <th>claim_amount</th>\n",
       "      <th>total_policy_claims</th>\n",
       "      <th>fraudulent</th>\n",
       "      <th>flag</th>\n",
       "      <th>Age</th>\n",
       "      <th>claim_month</th>\n",
       "      <th>Year</th>\n",
       "      <th>Age_Group</th>\n",
       "    </tr>\n",
       "  </thead>\n",
       "  <tbody>\n",
       "    <tr>\n",
       "      <th>0</th>\n",
       "      <td>Female</td>\n",
       "      <td>1978-05-23</td>\n",
       "      <td>DE</td>\n",
       "      <td>9.628791e+09</td>\n",
       "      <td>Platinum</td>\n",
       "      <td>69348631.0</td>\n",
       "      <td>154557.0</td>\n",
       "      <td>Driver error</td>\n",
       "      <td>2018-04-10</td>\n",
       "      <td>Auto</td>\n",
       "      <td>No</td>\n",
       "      <td>Injury only</td>\n",
       "      <td>12470.0</td>\n",
       "      <td>1.0</td>\n",
       "      <td>Yes</td>\n",
       "      <td>0</td>\n",
       "      <td>40</td>\n",
       "      <td>April</td>\n",
       "      <td>2018.0</td>\n",
       "      <td>Adult</td>\n",
       "    </tr>\n",
       "    <tr>\n",
       "      <th>1</th>\n",
       "      <td>Male</td>\n",
       "      <td>1972-12-20</td>\n",
       "      <td>TX</td>\n",
       "      <td>1.738926e+09</td>\n",
       "      <td>Silver</td>\n",
       "      <td>40953049.0</td>\n",
       "      <td>263204.0</td>\n",
       "      <td>Other causes</td>\n",
       "      <td>2018-04-04</td>\n",
       "      <td>Auto</td>\n",
       "      <td>No</td>\n",
       "      <td>Material and injury</td>\n",
       "      <td>39192.0</td>\n",
       "      <td>1.0</td>\n",
       "      <td>Yes</td>\n",
       "      <td>0</td>\n",
       "      <td>45</td>\n",
       "      <td>April</td>\n",
       "      <td>2018.0</td>\n",
       "      <td>Adult</td>\n",
       "    </tr>\n",
       "    <tr>\n",
       "      <th>2</th>\n",
       "      <td>Male</td>\n",
       "      <td>1988-07-28</td>\n",
       "      <td>FL</td>\n",
       "      <td>3.645981e+09</td>\n",
       "      <td>Silver</td>\n",
       "      <td>45780237.0</td>\n",
       "      <td>287476.0</td>\n",
       "      <td>Natural causes</td>\n",
       "      <td>2017-10-17</td>\n",
       "      <td>Auto</td>\n",
       "      <td>Unknown</td>\n",
       "      <td>Material only</td>\n",
       "      <td>1621.5</td>\n",
       "      <td>2.0</td>\n",
       "      <td>Yes</td>\n",
       "      <td>NA</td>\n",
       "      <td>29</td>\n",
       "      <td>October</td>\n",
       "      <td>2017.0</td>\n",
       "      <td>Youth</td>\n",
       "    </tr>\n",
       "    <tr>\n",
       "      <th>3</th>\n",
       "      <td>Male</td>\n",
       "      <td>1971-08-19</td>\n",
       "      <td>CA</td>\n",
       "      <td>1.873488e+09</td>\n",
       "      <td>Gold</td>\n",
       "      <td>89833962.0</td>\n",
       "      <td>441097.0</td>\n",
       "      <td>Other causes</td>\n",
       "      <td>2018-03-21</td>\n",
       "      <td>Auto</td>\n",
       "      <td>Yes</td>\n",
       "      <td>Material and injury</td>\n",
       "      <td>37040.0</td>\n",
       "      <td>1.0</td>\n",
       "      <td>No</td>\n",
       "      <td>1</td>\n",
       "      <td>47</td>\n",
       "      <td>March</td>\n",
       "      <td>2018.0</td>\n",
       "      <td>Adult</td>\n",
       "    </tr>\n",
       "    <tr>\n",
       "      <th>4</th>\n",
       "      <td>Female</td>\n",
       "      <td>1980-08-10</td>\n",
       "      <td>NC</td>\n",
       "      <td>7.988625e+09</td>\n",
       "      <td>Gold</td>\n",
       "      <td>35782742.0</td>\n",
       "      <td>524545.0</td>\n",
       "      <td>Other driver error</td>\n",
       "      <td>2018-07-27</td>\n",
       "      <td>Auto</td>\n",
       "      <td>No</td>\n",
       "      <td>Injury only</td>\n",
       "      <td>35250.0</td>\n",
       "      <td>3.0</td>\n",
       "      <td>No</td>\n",
       "      <td>0</td>\n",
       "      <td>38</td>\n",
       "      <td>July</td>\n",
       "      <td>2018.0</td>\n",
       "      <td>Adult</td>\n",
       "    </tr>\n",
       "  </tbody>\n",
       "</table>\n",
       "</div>"
      ],
      "text/plain": [
       "   gender DateOfBirth State       Contact   Segment    claim_id  customer_id  \\\n",
       "0  Female  1978-05-23    DE  9.628791e+09  Platinum  69348631.0     154557.0   \n",
       "1    Male  1972-12-20    TX  1.738926e+09    Silver  40953049.0     263204.0   \n",
       "2    Male  1988-07-28    FL  3.645981e+09    Silver  45780237.0     287476.0   \n",
       "3    Male  1971-08-19    CA  1.873488e+09      Gold  89833962.0     441097.0   \n",
       "4  Female  1980-08-10    NC  7.988625e+09      Gold  35782742.0     524545.0   \n",
       "\n",
       "       incident_cause claim_date claim_area police_report  \\\n",
       "0        Driver error 2018-04-10       Auto            No   \n",
       "1        Other causes 2018-04-04       Auto            No   \n",
       "2      Natural causes 2017-10-17       Auto       Unknown   \n",
       "3        Other causes 2018-03-21       Auto           Yes   \n",
       "4  Other driver error 2018-07-27       Auto            No   \n",
       "\n",
       "            claim_type  claim_amount  total_policy_claims fraudulent flag  \\\n",
       "0          Injury only       12470.0                  1.0        Yes    0   \n",
       "1  Material and injury       39192.0                  1.0        Yes    0   \n",
       "2        Material only        1621.5                  2.0        Yes   NA   \n",
       "3  Material and injury       37040.0                  1.0         No    1   \n",
       "4          Injury only       35250.0                  3.0         No    0   \n",
       "\n",
       "   Age claim_month    Year Age_Group  \n",
       "0   40       April  2018.0     Adult  \n",
       "1   45       April  2018.0     Adult  \n",
       "2   29     October  2017.0     Youth  \n",
       "3   47       March  2018.0     Adult  \n",
       "4   38        July  2018.0     Adult  "
      ]
     },
     "execution_count": 63,
     "metadata": {},
     "output_type": "execute_result"
    }
   ],
   "source": [
    "cust_claims.head()"
   ]
  },
  {
   "cell_type": "code",
   "execution_count": 16,
   "id": "7d259199",
   "metadata": {},
   "outputs": [
    {
     "data": {
      "text/plain": [
       "gender                 0\n",
       "DateOfBirth            0\n",
       "State                  0\n",
       "Contact                0\n",
       "Segment                0\n",
       "claim_id               7\n",
       "customer_id            7\n",
       "incident_cause         7\n",
       "claim_date             7\n",
       "claim_area             7\n",
       "police_report          0\n",
       "claim_type             7\n",
       "claim_amount           0\n",
       "total_policy_claims    0\n",
       "fraudulent             7\n",
       "flag                   0\n",
       "Age                    7\n",
       "dtype: int64"
      ]
     },
     "execution_count": 16,
     "metadata": {},
     "output_type": "execute_result"
    }
   ],
   "source": [
    "#Q6\n",
    "cust_claims.isna().sum()"
   ]
  },
  {
   "cell_type": "code",
   "execution_count": 23,
   "id": "f2fffc36",
   "metadata": {},
   "outputs": [],
   "source": [
    "#Q6: Check for missing values and impute the missing values with an appropriate value. (mean for continuous and mode for categorical)\n",
    "\n",
    "cust_claims['police_report'].fillna(cust_claims['police_report'].mode()[0],inplace=True)\n",
    "cust_claims['claim_amount'].fillna(int(cust_claims['claim_amount'].mean()),inplace=True)\n",
    "cust_claims['total_policy_claims'].fillna(int(cust_claims['total_policy_claims'].mean()),inplace=True)\n",
    "cust_claims['incident_cause'].fillna(cust_claims['incident_cause'].mode()[0],inplace=True)\n"
   ]
  },
  {
   "cell_type": "code",
   "execution_count": 18,
   "id": "82287675",
   "metadata": {
    "scrolled": true
   },
   "outputs": [
    {
     "data": {
      "text/plain": [
       "gender                 0\n",
       "DateOfBirth            0\n",
       "State                  0\n",
       "Contact                0\n",
       "Segment                0\n",
       "claim_id               7\n",
       "customer_id            7\n",
       "incident_cause         7\n",
       "claim_date             7\n",
       "claim_area             7\n",
       "police_report          0\n",
       "claim_type             7\n",
       "claim_amount           0\n",
       "total_policy_claims    0\n",
       "fraudulent             7\n",
       "flag                   0\n",
       "dtype: int64"
      ]
     },
     "execution_count": 18,
     "metadata": {},
     "output_type": "execute_result"
    }
   ],
   "source": [
    "cust_claims.isna().sum()"
   ]
  },
  {
   "cell_type": "code",
   "execution_count": 62,
   "id": "250769e4",
   "metadata": {},
   "outputs": [],
   "source": [
    "#Q7\n",
    "cust_claims[\"Age\"] = round((cust_claims.claim_date - cust_claims.DateOfBirth).apply(lambda x: x.days)/365.25, 0)\n",
    "cust_claims['Age'] = cust_claims['Age'].fillna(0).astype(int)\n",
    "\n",
    "\n",
    "cust_claims['Age_Group']=np.where(cust_claims.Age<18, 'Children',\n",
    "                                 (np.where(cust_claims.Age<30, 'Youth',\n",
    "                                          np.where(cust_claims.Age<60, 'Adult',\n",
    "                                                  np.where(cust_claims.Age>60, 'Senior','None')))))"
   ]
  },
  {
   "cell_type": "code",
   "execution_count": 10,
   "id": "466034cc",
   "metadata": {},
   "outputs": [
    {
     "data": {
      "text/plain": [
       "Segment\n",
       "Gold        12755.679688\n",
       "Platinum    12370.114258\n",
       "Silver      12271.119141\n",
       "Name: claim_amount, dtype: float32"
      ]
     },
     "execution_count": 10,
     "metadata": {},
     "output_type": "execute_result"
    }
   ],
   "source": [
    "#Q8\n",
    "cust_claims.head()\n",
    "\n",
    "cust_claims.groupby('Segment')['claim_amount'].mean()"
   ]
  },
  {
   "cell_type": "code",
   "execution_count": 11,
   "id": "b294a197",
   "metadata": {},
   "outputs": [
    {
     "data": {
      "text/plain": [
       "incident_cause\n",
       "Crime                  724460.0\n",
       "Driver error          3264280.0\n",
       "Natural causes        1312701.5\n",
       "Other causes          3725029.0\n",
       "Other driver error    3318800.0\n",
       "Name: claim_amount, dtype: float32"
      ]
     },
     "execution_count": 11,
     "metadata": {},
     "output_type": "execute_result"
    }
   ],
   "source": [
    "#Q9\n",
    "cust_claims.loc[cust_claims.claim_date < '2018-09-10',:].groupby('incident_cause')['claim_amount'].sum()"
   ]
  },
  {
   "cell_type": "code",
   "execution_count": 12,
   "id": "970d972a",
   "metadata": {},
   "outputs": [
    {
     "data": {
      "text/plain": [
       "State\n",
       "AK    10\n",
       "AL     8\n",
       "AR     8\n",
       "AZ     5\n",
       "CA     4\n",
       "CO     7\n",
       "CT     7\n",
       "DE    15\n",
       "FL     7\n",
       "GA     7\n",
       "HI     2\n",
       "IA     5\n",
       "ID     3\n",
       "IL     5\n",
       "IN     9\n",
       "KS     4\n",
       "KY     5\n",
       "LA     3\n",
       "MA     4\n",
       "MD     7\n",
       "ME     5\n",
       "MI     2\n",
       "MN     5\n",
       "MO     4\n",
       "MS     3\n",
       "MT     8\n",
       "NC     5\n",
       "ND     4\n",
       "NE     9\n",
       "NH     4\n",
       "NJ     5\n",
       "NM     2\n",
       "NV     2\n",
       "NY     6\n",
       "OH     8\n",
       "OK     1\n",
       "OR     6\n",
       "PA     4\n",
       "RI     3\n",
       "SC     4\n",
       "SD     2\n",
       "TN     5\n",
       "TX    10\n",
       "UT     4\n",
       "VT     3\n",
       "WA     4\n",
       "WI     8\n",
       "WV    12\n",
       "WY     4\n",
       "Name: State, dtype: int64"
      ]
     },
     "execution_count": 12,
     "metadata": {},
     "output_type": "execute_result"
    }
   ],
   "source": [
    "#Q10\n",
    "cust_claims.loc[(cust_claims.incident_cause.str.contains(\"driver\") | cust_claims.incident_cause.str.contains(\"Driver\")\n",
    "                & ((cust_claims.State == 'TX') | (cust_claims.State == 'DE') | (cust_claims.State == 'AK'))),:].groupby(by = 'State')['State'].count()\n"
   ]
  },
  {
   "cell_type": "code",
   "execution_count": 13,
   "id": "261f0ae0",
   "metadata": {},
   "outputs": [
    {
     "data": {
      "text/plain": [
       "array([<AxesSubplot:ylabel='Female'>, <AxesSubplot:ylabel='Male'>],\n",
       "      dtype=object)"
      ]
     },
     "execution_count": 13,
     "metadata": {},
     "output_type": "execute_result"
    },
    {
     "data": {
      "image/png": "[encoded data removed]",
      "text/plain": [
       "<Figure size 1900x900 with 2 Axes>"
      ]
     },
     "metadata": {},
     "output_type": "display_data"
    }
   ],
   "source": [
    "#Q11\n",
    "gen_seg=pd.DataFrame(cust_claims.groupby(['gender','Segment'])['claim_amount'].sum().reset_index(name='amount'))\n",
    "gen_seg_plot=gen_seg.pivot(index = \"Segment\", columns = \"gender\", values = \"amount\")\n",
    "gen_seg_plot\n",
    "gen_seg_plot.plot(kind='pie',subplots=True,figsize=(19,9),autopct='%1.0f%%')\n"
   ]
  },
  {
   "cell_type": "code",
   "execution_count": 24,
   "id": "ea70dde3",
   "metadata": {},
   "outputs": [
    {
     "data": {
      "text/plain": [
       "<AxesSubplot:xlabel='gender', ylabel='Countof'>"
      ]
     },
     "execution_count": 24,
     "metadata": {},
     "output_type": "execute_result"
    },
    {
     "data": {
      "image/png": "[encoded data removed]",
      "text/plain": [
       "<Figure size 640x480 with 1 Axes>"
      ]
     },
     "metadata": {},
     "output_type": "display_data"
    }
   ],
   "source": [
    "#Q12:\n",
    "#cust_claims.loc[cust_claims.claim_date < '2018-09-10',:].groupby('incident_cause')['claim_amount'].sum()\n",
    "x=cust_claims.loc[(cust_claims.incident_cause.str.contains(\"driver\"))].groupby('gender')['gender'].count().reset_index(name='Countof')\n",
    "                 \n",
    "sns.barplot(x='gender',y='Countof',data=x)\n"
   ]
  },
  {
   "cell_type": "code",
   "execution_count": 81,
   "id": "91840d29",
   "metadata": {
    "scrolled": true
   },
   "outputs": [
    {
     "data": {
      "text/plain": [
       "<AxesSubplot:xlabel='Age_Group', ylabel='fraudulent'>"
      ]
     },
     "execution_count": 81,
     "metadata": {},
     "output_type": "execute_result"
    },
    {
     "data": {
      "image/png": "[encoded data removed]",
      "text/plain": [
       "<Figure size 640x480 with 1 Axes>"
      ]
     },
     "metadata": {},
     "output_type": "display_data"
    }
   ],
   "source": [
    "#Q13\n",
    "cust_claims.head()\n",
    "\n",
    "#AgeGroup_frauds\n",
    "Age_Frauds=cust_claims.loc[(cust_claims.fraudulent=='Yes')]\n",
    "Age_Frauds_plot=Age_Frauds.groupby([\"Age_Group\"])[\"fraudulent\"].count().reset_index()\n",
    "sns.barplot(x=\"Age_Group\",y=\"fraudulent\",data=Age_Frauds_plot)"
   ]
  },
  {
   "cell_type": "code",
   "execution_count": 25,
   "id": "fea80e9b",
   "metadata": {},
   "outputs": [
    {
     "data": {
      "text/plain": [
       "<AxesSubplot:xlabel='claim_month'>"
      ]
     },
     "execution_count": 25,
     "metadata": {},
     "output_type": "execute_result"
    },
    {
     "data": {
      "image/png": "[encoded data removed]",
      "text/plain": [
       "<Figure size 640x480 with 1 Axes>"
      ]
     },
     "metadata": {},
     "output_type": "display_data"
    }
   ],
   "source": [
    "#Q14\n",
    "#cust_claims['claim_month']=cust_claims['claim_date'].dt.month\n",
    "cust_claims['claim_month']=pd.DatetimeIndex(cust_claims['claim_date']).month_name()\n",
    "#cust_claims.claim_month=int(cust_claims.claim_month)\n",
    "mon_claim=cust_claims.groupby('claim_month')['claim_id'].count().reset_index(name='Countof')\n",
    "months_dic={'January':1,'February':2,'March':3,'April':4,'May':5,'June':6,'July':7,'August':8,'September':9,'October':10,'November':11,'December':12}\n",
    "mon_claim.sort_values('claim_month', key = lambda x : x.apply (lambda x : months_dic[x]),inplace=True)\n",
    "mon_claim\n",
    "mon_claim.plot.bar(x=\"claim_month\",y='Countof',rot=70)\n"
   ]
  },
  {
   "cell_type": "code",
   "execution_count": 87,
   "id": "8960a41f",
   "metadata": {},
   "outputs": [
    {
     "data": {
      "text/plain": [
       "array([<AxesSubplot:title={'center':'claim_amount_x'}, xlabel='gender,Age_Group'>,\n",
       "       <AxesSubplot:title={'center':'claim_amount_y'}, xlabel='gender,Age_Group'>],\n",
       "      dtype=object)"
      ]
     },
     "execution_count": 87,
     "metadata": {},
     "output_type": "execute_result"
    },
    {
     "data": {
      "image/png": "[encoded data removed]",
      "text/plain": [
       "<Figure size 1000x1000 with 2 Axes>"
      ]
     },
     "metadata": {},
     "output_type": "display_data"
    }
   ],
   "source": [
    "#Q15\n",
    "fraud_gender_age=cust_claims.loc[(cust_claims.fraudulent=='Yes')].groupby(['gender','Age_Group'])['claim_amount'].mean()\n",
    "non_fraud_gender_age=cust_claims.loc[(cust_claims.fraudulent=='No')].groupby(['gender','Age_Group'])['claim_amount'].mean()\n",
    "\n",
    "claims_age_gender=round(pd.merge(fraud_gender_age,non_fraud_gender_age, on=[\"gender\",\"Age_Group\"]),2)\n",
    "claims_age_gender.plot(kind=\"bar\", subplots= True, legend= True,figsize=(10,10))\n"
   ]
  },
  {
   "cell_type": "code",
   "execution_count": 33,
   "id": "5da3dc8d",
   "metadata": {},
   "outputs": [],
   "source": [
    "#Q16\n",
    "claim_male = cust_claims['claim_amount'].loc[cust_claims['gender']==\"Male\"]\n",
    "claim_female = cust_claims['claim_amount'].loc[cust_claims['gender']==\"Female\"]\n",
    "claim_male.mean()\n",
    "claim_female.mean()\n",
    "#we will conduct a two sample t test with both equal and unequal vaiance\n",
    "eq_var = stats.ttest_ind(a= claim_male,b= claim_female,equal_var=True)\n",
    "\n",
    "uneq_var = stats.ttest_ind(a= claim_male,b= claim_female,equal_var=False)"
   ]
  },
  {
   "cell_type": "code",
   "execution_count": 34,
   "id": "1577e161",
   "metadata": {},
   "outputs": [
    {
     "data": {
      "text/plain": [
       "0.8848170602516858"
      ]
     },
     "execution_count": 34,
     "metadata": {},
     "output_type": "execute_result"
    }
   ],
   "source": [
    "eq_var.statistic"
   ]
  },
  {
   "cell_type": "code",
   "execution_count": 35,
   "id": "b1caf6c2",
   "metadata": {},
   "outputs": [
    {
     "data": {
      "text/plain": [
       "0.8854179438774149"
      ]
     },
     "execution_count": 35,
     "metadata": {},
     "output_type": "execute_result"
    }
   ],
   "source": [
    "uneq_var.statistic"
   ]
  },
  {
   "cell_type": "code",
   "execution_count": 36,
   "id": "24329a6d",
   "metadata": {},
   "outputs": [],
   "source": [
    "#as both t scores are almost equal, we assume equal variance\n",
    "a=eq_var.statistic\n",
    "b=eq_var.pvalue"
   ]
  },
  {
   "cell_type": "code",
   "execution_count": 37,
   "id": "d73b9a1a",
   "metadata": {},
   "outputs": [
    {
     "data": {
      "text/plain": [
       "0.8848170602516858"
      ]
     },
     "execution_count": 37,
     "metadata": {},
     "output_type": "execute_result"
    }
   ],
   "source": [
    "a"
   ]
  },
  {
   "cell_type": "code",
   "execution_count": 38,
   "id": "23e52084",
   "metadata": {},
   "outputs": [
    {
     "data": {
      "text/plain": [
       "0.37645170410763473"
      ]
     },
     "execution_count": 38,
     "metadata": {},
     "output_type": "execute_result"
    }
   ],
   "source": [
    "b"
   ]
  },
  {
   "cell_type": "code",
   "execution_count": null,
   "id": "86c596e4",
   "metadata": {},
   "outputs": [],
   "source": [
    "#As the value of t test is greater than 0.05, there is a similarity in amount claimed by males and females."
   ]
  },
  {
   "cell_type": "code",
   "execution_count": 93,
   "id": "e9c1c4ae",
   "metadata": {},
   "outputs": [
    {
     "data": {
      "text/plain": [
       "0.9630831069084891"
      ]
     },
     "execution_count": 93,
     "metadata": {},
     "output_type": "execute_result"
    }
   ],
   "source": [
    "#Q17\n",
    "#H0: there is no significant relationship between category and segment\n",
    "#Ha: there is a significant relationship between categry and segment\n",
    "\n",
    "#we will perform a chi square test\n",
    "age_cat=pd.crosstab(cust_claims.Age_Group, cust_claims.Segment, margins = True)\n",
    "chi_test=stats.chi2_contingency(observed= age_cat)\n",
    "chi_test[1]\n",
    "#since the significance values is more than 0.05, we fail to reject the null hypothesis and there is no significant relationship between category and segment"
   ]
  },
  {
   "cell_type": "code",
   "execution_count": 47,
   "id": "56ff4a17",
   "metadata": {},
   "outputs": [
    {
     "ename": "ValueError",
     "evalue": "x and y must have the same length.",
     "output_type": "error",
     "traceback": [
      "\u001b[1;31m---------------------------------------------------------------------------\u001b[0m",
      "\u001b[1;31mValueError\u001b[0m                                Traceback (most recent call last)",
      "\u001b[1;32m~\\AppData\\Local\\Temp\\ipykernel_2672\\231017260.py\u001b[0m in \u001b[0;36m<module>\u001b[1;34m\u001b[0m\n\u001b[0;32m      7\u001b[0m \u001b[0mcurr_yr\u001b[0m\u001b[1;33m=\u001b[0m \u001b[0mcust_claims\u001b[0m\u001b[1;33m.\u001b[0m\u001b[0mloc\u001b[0m\u001b[1;33m[\u001b[0m\u001b[0mcust_claims\u001b[0m\u001b[1;33m.\u001b[0m\u001b[0mYear\u001b[0m \u001b[1;33m==\u001b[0m \u001b[1;36m2018\u001b[0m\u001b[1;33m]\u001b[0m\u001b[1;33m[\u001b[0m\u001b[1;34m\"claim_amount\"\u001b[0m\u001b[1;33m]\u001b[0m\u001b[1;33m\u001b[0m\u001b[1;33m\u001b[0m\u001b[0m\n\u001b[0;32m      8\u001b[0m \u001b[0mamt_2016_17\u001b[0m\u001b[1;33m=\u001b[0m \u001b[0mcust_claims\u001b[0m\u001b[1;33m.\u001b[0m\u001b[0mloc\u001b[0m\u001b[1;33m[\u001b[0m\u001b[0mcust_claims\u001b[0m\u001b[1;33m.\u001b[0m\u001b[0mYear\u001b[0m\u001b[1;33m==\u001b[0m\u001b[1;36m2017\u001b[0m\u001b[1;33m]\u001b[0m\u001b[1;33m[\u001b[0m\u001b[1;34m\"claim_amount\"\u001b[0m\u001b[1;33m]\u001b[0m\u001b[1;33m\u001b[0m\u001b[1;33m\u001b[0m\u001b[0m\n\u001b[1;32m----> 9\u001b[1;33m \u001b[0mstats\u001b[0m\u001b[1;33m.\u001b[0m\u001b[0mpearsonr\u001b[0m\u001b[1;33m(\u001b[0m\u001b[0mcurr_yr\u001b[0m\u001b[1;33m,\u001b[0m\u001b[0mamt_2016_17\u001b[0m\u001b[1;33m)\u001b[0m\u001b[1;33m\u001b[0m\u001b[1;33m\u001b[0m\u001b[0m\n\u001b[0m",
      "\u001b[1;32m~\\anaconda3\\lib\\site-packages\\scipy\\stats\\_stats_py.py\u001b[0m in \u001b[0;36mpearsonr\u001b[1;34m(x, y, alternative)\u001b[0m\n\u001b[0;32m   4410\u001b[0m     \u001b[0mn\u001b[0m \u001b[1;33m=\u001b[0m \u001b[0mlen\u001b[0m\u001b[1;33m(\u001b[0m\u001b[0mx\u001b[0m\u001b[1;33m)\u001b[0m\u001b[1;33m\u001b[0m\u001b[1;33m\u001b[0m\u001b[0m\n\u001b[0;32m   4411\u001b[0m     \u001b[1;32mif\u001b[0m \u001b[0mn\u001b[0m \u001b[1;33m!=\u001b[0m \u001b[0mlen\u001b[0m\u001b[1;33m(\u001b[0m\u001b[0my\u001b[0m\u001b[1;33m)\u001b[0m\u001b[1;33m:\u001b[0m\u001b[1;33m\u001b[0m\u001b[1;33m\u001b[0m\u001b[0m\n\u001b[1;32m-> 4412\u001b[1;33m         \u001b[1;32mraise\u001b[0m \u001b[0mValueError\u001b[0m\u001b[1;33m(\u001b[0m\u001b[1;34m'x and y must have the same length.'\u001b[0m\u001b[1;33m)\u001b[0m\u001b[1;33m\u001b[0m\u001b[1;33m\u001b[0m\u001b[0m\n\u001b[0m\u001b[0;32m   4413\u001b[0m \u001b[1;33m\u001b[0m\u001b[0m\n\u001b[0;32m   4414\u001b[0m     \u001b[1;32mif\u001b[0m \u001b[0mn\u001b[0m \u001b[1;33m<\u001b[0m \u001b[1;36m2\u001b[0m\u001b[1;33m:\u001b[0m\u001b[1;33m\u001b[0m\u001b[1;33m\u001b[0m\u001b[0m\n",
      "\u001b[1;31mValueError\u001b[0m: x and y must have the same length."
     ]
    }
   ],
   "source": [
    "#Q18\n",
    "#H0: No significant relationship between 2016-17 claim amounts and current claim amounts\n",
    "#Ha: There is a significant relationship between 2016-17 and current claims\n",
    "# we will use person coefficient test\n",
    "cust_claims[\"Year\"]= cust_claims['claim_date'].dt.year\n",
    "\n",
    "curr_yr= cust_claims.loc[cust_claims.Year == 2018][\"claim_amount\"]\n",
    "amt_2016_17= cust_claims.loc[cust_claims.Year==2017][\"claim_amount\"]\n",
    "stats.pearsonr(curr_yr,amt_2016_17)\n"
   ]
  },
  {
   "cell_type": "code",
   "execution_count": 98,
   "id": "0388f410",
   "metadata": {},
   "outputs": [
    {
     "data": {
      "text/plain": [
       "0.5905445860775921"
      ]
     },
     "execution_count": 98,
     "metadata": {},
     "output_type": "execute_result"
    }
   ],
   "source": [
    "#Q19\n",
    "#H0: No significant difference between age groups and insurance claims or No influence of age groups on insurance claims\n",
    "#Ha: There is significant difference between age groups and insurance claims or there is some influence of age groups on insurance claims\n",
    "\n",
    "#we will perform Anova Test\n",
    "\n",
    "age_group_youth = cust_claims['total_policy_claims'].loc[cust_claims['Age_Group']==\"Youth\"]\n",
    "age_group_adult = cust_claims['total_policy_claims'].loc[cust_claims['Age_Group']==\"Adult\"]\n",
    "anova = stats.f_oneway(age_group_youth,age_group_adult)\n",
    "anova.pvalue\n",
    "anova.statistic\n",
    "#since the p value is greater then 0.05, we fail to reject the null hypothesis"
   ]
  },
  {
   "cell_type": "code",
   "execution_count": 51,
   "id": "71bad9f8",
   "metadata": {},
   "outputs": [
    {
     "data": {
      "text/plain": [
       "-0.014788414910264487"
      ]
     },
     "execution_count": 51,
     "metadata": {},
     "output_type": "execute_result"
    }
   ],
   "source": [
    "#Q20\n",
    "cust_claims['total_policy_claims'] = pd.to_numeric(cust_claims['total_policy_claims'])\n",
    "#correlatio\n",
    "cust_claims.total_policy_claims.corr(other= cust_claims.claim_amount)\n",
    "\n",
    "# As the correlation is negative the number of policy claims in inversely propotional to the claimed amount.st"
   ]
  }
 ],
 "metadata": {
  "kernelspec": {
   "display_name": "Python 3 (ipykernel)",
   "language": "python",
   "name": "python3"
  },
  "language_info": {
   "codemirror_mode": {
    "name": "ipython",
    "version": 3
   },
   "file_extension": ".py",
   "mimetype": "text/x-python",
   "name": "python",
   "nbconvert_exporter": "python",
   "pygments_lexer": "ipython3",
   "version": "3.9.13"
  }
 },
 "nbformat": 4,
 "nbformat_minor": 5
}
